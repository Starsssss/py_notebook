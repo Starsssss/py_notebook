{
 "cells": [
  {
   "cell_type": "code",
   "execution_count": 52,
   "id": "04e18475",
   "metadata": {},
   "outputs": [],
   "source": [
    "import pyquery as pq\n",
    "from selenium import webdriver\n",
    "import pandas as pd\n",
    "import time\n",
    "import os\n",
    "from selenium.webdriver.support import expected_conditions as EC\n",
    "from selenium.webdriver.common.by import By\n",
    "from selenium.webdriver.support.ui import WebDriverWait"
   ]
  },
  {
   "cell_type": "code",
   "execution_count": 53,
   "id": "39dca752",
   "metadata": {},
   "outputs": [],
   "source": [
    "driver = webdriver.Firefox()\n",
    "driver.implicitly_wait(5)\n",
    "driver.get(\"https://www.lagou.com/\")"
   ]
  },
  {
   "cell_type": "code",
   "execution_count": 56,
   "id": "4126e0d6",
   "metadata": {},
   "outputs": [
    {
     "name": "stdout",
     "output_type": "stream",
     "text": [
      "已登陆成功请输入“OK”：OK\n"
     ]
    }
   ],
   "source": [
    "while True:\n",
    "    i = input(\"已登陆成功请输入“OK”：\")\n",
    "    if i == 'OK':\n",
    "        break\n",
    "    elif i == 'quit':\n",
    "        print(\"取消执行，关闭！\")\n",
    "        os._exit(1)"
   ]
  },
  {
   "cell_type": "code",
   "execution_count": 57,
   "id": "d2ff4289",
   "metadata": {},
   "outputs": [],
   "source": [
    "#wait = WebDriverWait(driver,4)\n",
    "#button = wait.until(EC.element_to_be_clickable((By.XPATH,'.//*[@id=\"cboxClose\"]')))\n",
    "#button.click()\n",
    "#print(\"点击了\")\n",
    "\n",
    "def getPosition(items):\n",
    "    datalist=[]\n",
    "    for item in items.items():\n",
    "        temp = dict()\n",
    "        temp['职位ID']= item.attr('data-positionid')\n",
    "        temp['职位名']= item.attr('data-positionname')\n",
    "        temp['薪资范围']= item.attr('data-salary')\n",
    "        temp['公司ID']= item.attr('data-companyid')\n",
    "        temp['公司名']= item.attr('data-company')\n",
    "        temp['职位链接']=pq.PyQuery(item).find(\".position_link\").attr(\"href\")\n",
    "        temp['发布时间']=pq.PyQuery(item).find(\".format-time\").text()\n",
    "        temp['猎头名称']=pq.PyQuery(item).find(\".hr_name\").text()\n",
    "        temp['猎头ID']=pq.PyQuery(item).find(\".target_hr\").text()\n",
    "        temp['工作经验']=pq.PyQuery(item).find(\".p_bot>.li_b_l\").remove(\".money\").text()\n",
    "        temp['公司主页']=pq.PyQuery(item).find(\".company_name>a\").attr('href')\n",
    "        temp['公司描述']=pq.PyQuery(item).find(\".industry\").text()\n",
    "        temp['岗位亮点']=pq.PyQuery(item).find(\".li_b_r\").text()\n",
    "\n",
    "        datalist.append(temp)\n",
    "    return datalist"
   ]
  },
  {
   "cell_type": "code",
   "execution_count": 61,
   "id": "590a5a79",
   "metadata": {},
   "outputs": [
    {
     "name": "stdout",
     "output_type": "stream",
     "text": [
      "开始执行采集\n",
      "列表采集结束\n"
     ]
    }
   ],
   "source": [
    "print(\"开始执行采集\")\n",
    "data = []\n",
    "driver.get(\"https://www.lagou.com/jobs/list_Php/p-city_215?&cl=false&fromSearch=true&labelWords=&suginput=\")\n",
    "while True:\n",
    "    but_class = driver.find_element_by_css_selector(\".pager_next\").get_attribute('class')\n",
    "\n",
    "    if but_class == 'pager_next ':\n",
    "        driver.find_element_by_xpath(\"//span[@action='next']\").click()\n",
    "        items = pq.PyQuery(driver.page_source).find(\".con_list_item\")\n",
    "        data += getPosition(items)\n",
    "        time.sleep(2)\n",
    "    else:\n",
    "        print('列表采集结束')\n",
    "        break"
   ]
  },
  {
   "cell_type": "code",
   "execution_count": 62,
   "id": "c8102668",
   "metadata": {},
   "outputs": [],
   "source": [
    "csv = pd.DataFrame(data)\n",
    "csv.to_csv(\"lagou.csv\")"
   ]
  },
  {
   "cell_type": "code",
   "execution_count": 71,
   "id": "70aaafab",
   "metadata": {
    "scrolled": true
   },
   "outputs": [
    {
     "name": "stdout",
     "output_type": "stream",
     "text": [
      "C:\\Users\\PC\\Untitled Folder\n"
     ]
    }
   ],
   "source": [
    "import os\n",
    "print(os.path.abspath('.'))"
   ]
  },
  {
   "cell_type": "code",
   "execution_count": 85,
   "id": "127cec86",
   "metadata": {},
   "outputs": [
    {
     "name": "stdout",
     "output_type": "stream",
     "text": [
      "职位采集完成\n"
     ]
    }
   ],
   "source": [
    "urllist=csv[['职位链接','职位ID']].values.tolist()\n",
    "import random\n",
    "for row in urllist:\n",
    "    driver.get(row[0])\n",
    "    text =pq.PyQuery(driver.page_source).find(\".job-detail\").text()\n",
    "    if \"\\u2200b\" in text:\n",
    "        print(\"我错了\")\n",
    "        print(text)\n",
    "    else :\n",
    "        with open(\"./data/666.txt\",\"a+\",encoding='utf-8') as f:\n",
    "            f.write(text)\n",
    "            time.sleep(2+random.randint(0,4))\n",
    "print(\"职位采集完成\")"
   ]
  },
  {
   "cell_type": "code",
   "execution_count": 84,
   "id": "b8f7fa91",
   "metadata": {},
   "outputs": [
    {
     "name": "stdout",
     "output_type": "stream",
     "text": [
      "7\n",
      "2\n"
     ]
    }
   ],
   "source": [
    "import random\n",
    " \n",
    "print(random.randint(0,9))\n",
    "\n",
    " \n",
    "print(random.randint(0,9))"
   ]
  },
  {
   "cell_type": "code",
   "execution_count": null,
   "id": "7b8e317e",
   "metadata": {},
   "outputs": [],
   "source": []
  },
  {
   "cell_type": "code",
   "execution_count": null,
   "id": "3ef42409",
   "metadata": {},
   "outputs": [],
   "source": []
  }
 ],
 "metadata": {
  "kernelspec": {
   "display_name": "Python 3",
   "language": "python",
   "name": "python3"
  },
  "language_info": {
   "codemirror_mode": {
    "name": "ipython",
    "version": 3
   },
   "file_extension": ".py",
   "mimetype": "text/x-python",
   "name": "python",
   "nbconvert_exporter": "python",
   "pygments_lexer": "ipython3",
   "version": "3.8.8"
  }
 },
 "nbformat": 4,
 "nbformat_minor": 5
}
