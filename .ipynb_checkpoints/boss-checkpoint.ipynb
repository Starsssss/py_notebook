{
 "cells": [
  {
   "cell_type": "code",
   "execution_count": 7,
   "id": "92b2fa55",
   "metadata": {},
   "outputs": [
    {
     "ename": "KeyboardInterrupt",
     "evalue": "",
     "output_type": "error",
     "traceback": [
      "\u001b[1;31m---------------------------------------------------------------------------\u001b[0m",
      "\u001b[1;31mKeyboardInterrupt\u001b[0m                         Traceback (most recent call last)",
      "\u001b[1;32m<ipython-input-7-39ff46d25ba2>\u001b[0m in \u001b[0;36m<module>\u001b[1;34m\u001b[0m\n\u001b[0;32m     53\u001b[0m \u001b[1;33m\u001b[0m\u001b[0m\n\u001b[0;32m     54\u001b[0m \u001b[1;32mif\u001b[0m \u001b[0m__name__\u001b[0m \u001b[1;33m==\u001b[0m \u001b[1;34m'__main__'\u001b[0m\u001b[1;33m:\u001b[0m\u001b[1;33m\u001b[0m\u001b[1;33m\u001b[0m\u001b[0m\n\u001b[1;32m---> 55\u001b[1;33m     \u001b[0mBossSpider\u001b[0m\u001b[1;33m(\u001b[0m\u001b[1;33m)\u001b[0m\u001b[1;33m.\u001b[0m\u001b[0mrun\u001b[0m\u001b[1;33m(\u001b[0m\u001b[1;33m)\u001b[0m\u001b[1;33m\u001b[0m\u001b[1;33m\u001b[0m\u001b[0m\n\u001b[0m",
      "\u001b[1;32m<ipython-input-7-39ff46d25ba2>\u001b[0m in \u001b[0;36mrun\u001b[1;34m(self)\u001b[0m\n\u001b[0;32m     43\u001b[0m         \u001b[1;32mwhile\u001b[0m \u001b[1;32mTrue\u001b[0m\u001b[1;33m:\u001b[0m\u001b[1;33m\u001b[0m\u001b[1;33m\u001b[0m\u001b[0m\n\u001b[0;32m     44\u001b[0m             \u001b[0msource\u001b[0m \u001b[1;33m=\u001b[0m\u001b[0mself\u001b[0m\u001b[1;33m.\u001b[0m\u001b[0mdriver\u001b[0m\u001b[1;33m.\u001b[0m\u001b[0mpage_source\u001b[0m\u001b[1;33m\u001b[0m\u001b[1;33m\u001b[0m\u001b[0m\n\u001b[1;32m---> 45\u001b[1;33m             \u001b[0mself\u001b[0m\u001b[1;33m.\u001b[0m\u001b[0mget_page_url\u001b[0m\u001b[1;33m(\u001b[0m\u001b[0msource\u001b[0m\u001b[1;33m)\u001b[0m\u001b[1;33m\u001b[0m\u001b[1;33m\u001b[0m\u001b[0m\n\u001b[0m\u001b[0;32m     46\u001b[0m             \u001b[0mnext_btn\u001b[0m \u001b[1;33m=\u001b[0m \u001b[0mself\u001b[0m\u001b[1;33m.\u001b[0m\u001b[0mdriver\u001b[0m\u001b[1;33m.\u001b[0m\u001b[0mfind_element_by_xpath\u001b[0m\u001b[1;33m(\u001b[0m\u001b[1;34m\"//div[@class='page']/a[last()]\"\u001b[0m\u001b[1;33m)\u001b[0m\u001b[1;33m\u001b[0m\u001b[1;33m\u001b[0m\u001b[0m\n\u001b[0;32m     47\u001b[0m             \u001b[1;32mif\u001b[0m \u001b[1;34m\"next disabled\"\u001b[0m \u001b[1;32min\u001b[0m \u001b[0mnext_btn\u001b[0m\u001b[1;33m.\u001b[0m\u001b[0mget_attribute\u001b[0m\u001b[1;33m(\u001b[0m\u001b[1;34m\"class\"\u001b[0m\u001b[1;33m)\u001b[0m\u001b[1;33m:\u001b[0m\u001b[1;33m\u001b[0m\u001b[1;33m\u001b[0m\u001b[0m\n",
      "\u001b[1;32m<ipython-input-7-39ff46d25ba2>\u001b[0m in \u001b[0;36mget_page_url\u001b[1;34m(self, source)\u001b[0m\n\u001b[0;32m     10\u001b[0m \u001b[1;33m\u001b[0m\u001b[0m\n\u001b[0;32m     11\u001b[0m     \u001b[1;32mdef\u001b[0m \u001b[0mget_page_url\u001b[0m\u001b[1;33m(\u001b[0m\u001b[0mself\u001b[0m\u001b[1;33m,\u001b[0m\u001b[0msource\u001b[0m\u001b[1;33m)\u001b[0m\u001b[1;33m:\u001b[0m\u001b[1;33m\u001b[0m\u001b[1;33m\u001b[0m\u001b[0m\n\u001b[1;32m---> 12\u001b[1;33m         \u001b[0mhtml\u001b[0m \u001b[1;33m=\u001b[0m \u001b[0metree\u001b[0m\u001b[1;33m.\u001b[0m\u001b[0mHTML\u001b[0m\u001b[1;33m(\u001b[0m\u001b[0msource\u001b[0m\u001b[1;33m)\u001b[0m\u001b[1;33m\u001b[0m\u001b[1;33m\u001b[0m\u001b[0m\n\u001b[0m\u001b[0;32m     13\u001b[0m         \u001b[0mposition_href_links\u001b[0m \u001b[1;33m=\u001b[0m \u001b[0mhtml\u001b[0m\u001b[1;33m.\u001b[0m\u001b[0mxpath\u001b[0m\u001b[1;33m(\u001b[0m\u001b[1;34m\"//div[@class='job-list']/ul/li//div[@class='info-primary']/h3/a/@href\"\u001b[0m\u001b[1;33m)\u001b[0m\u001b[1;33m\u001b[0m\u001b[1;33m\u001b[0m\u001b[0m\n\u001b[0;32m     14\u001b[0m         \u001b[1;32mfor\u001b[0m \u001b[0mhref\u001b[0m \u001b[1;32min\u001b[0m \u001b[0mposition_href_links\u001b[0m\u001b[1;33m:\u001b[0m\u001b[1;33m\u001b[0m\u001b[1;33m\u001b[0m\u001b[0m\n",
      "\u001b[1;31mKeyboardInterrupt\u001b[0m: "
     ]
    }
   ],
   "source": [
    "# -*- coding:utf-8 -*-\n",
    "from selenium import webdriver\n",
    "from  lxml import etree\n",
    "import time\n",
    "\n",
    "class BossSpider(object):\n",
    "    def __init__(self):\n",
    "        self.start_url = 'https://www.zhipin.com/job_detail/?query=python&city=101020100&industry=&position='\n",
    "        self.driver = webdriver.Firefox()\n",
    "\n",
    "    def get_page_url(self,source):\n",
    "        html = etree.HTML(source)\n",
    "        position_href_links = html.xpath(\"//div[@class='job-list']/ul/li//div[@class='info-primary']/h3/a/@href\")\n",
    "        for href in position_href_links:\n",
    "            position_url = \"https://www.zhipin.com\" + href\n",
    "            print(position_url)\n",
    "            self.get_detail_info(position_url)\n",
    "            #time.sleep(2)\n",
    "        #time.sleep(2)\n",
    "\n",
    "    def get_detail_info(self,url):\n",
    "        self.driver.execute_script('window.open(\"%s\")'%url)\n",
    "        self.driver.switch_to.window(self.driver.window_handles[1])\n",
    "        source = self.driver.page_source\n",
    "        self.parse_detail_page(source)\n",
    "        self.driver.close()\n",
    "        self.driver.switch_to.window(self.driver.window_handles[0])\n",
    "\n",
    "    def parse_detail_page(self,source):\n",
    "        html = etree.HTML(source)\n",
    "        position_info = {}\n",
    "        position_info[\"company\"] = html.xpath(\"//div[@class='company-info']/a[2]/text()\")[0].strip()\n",
    "        # position_info[\"salary\"] = html.xpath(\"//div[@class='info-primary']/div[@class='name']/span/text()]\")[0].strip()\n",
    "        position_info[\"salary\"] = html.xpath(\"//span[@class='salary']/text()\")[0].strip()\n",
    "        position_info[\"city\"] = html.xpath(\"//div[@class='info-primary']/p//text()\")[0]\n",
    "        position_info[\"work_years\"] = html.xpath(\"//div[@class='info-primary']/p//text()\")[1]\n",
    "        position_info[\"education\"] = html.xpath(\"//div[@class='info-primary']/p//text()\")[2]\n",
    "        position_info[\"desc\"] = \"\".join(html.xpath(\"//div[@class='job-sec']/div/text()\")).strip()\n",
    "        print(position_info)\n",
    "\n",
    "    def run(self):\n",
    "        self.driver.get(self.start_url)\n",
    "        while True:\n",
    "            source =self.driver.page_source\n",
    "            self.get_page_url(source)\n",
    "            next_btn = self.driver.find_element_by_xpath(\"//div[@class='page']/a[last()]\")\n",
    "            if \"next disabled\" in next_btn.get_attribute(\"class\"):\n",
    "                pass\n",
    "            else:\n",
    "                next_btn.click()\n",
    "                #time.sleep(1)\n",
    "            #time.sleep(2)\n",
    "\n",
    "if __name__ == '__main__':\n",
    "    BossSpider().run()"
   ]
  },
  {
   "cell_type": "code",
   "execution_count": null,
   "id": "7cf58b71",
   "metadata": {},
   "outputs": [],
   "source": []
  }
 ],
 "metadata": {
  "kernelspec": {
   "display_name": "Python 3",
   "language": "python",
   "name": "python3"
  },
  "language_info": {
   "codemirror_mode": {
    "name": "ipython",
    "version": 3
   },
   "file_extension": ".py",
   "mimetype": "text/x-python",
   "name": "python",
   "nbconvert_exporter": "python",
   "pygments_lexer": "ipython3",
   "version": "3.8.8"
  }
 },
 "nbformat": 4,
 "nbformat_minor": 5
}
