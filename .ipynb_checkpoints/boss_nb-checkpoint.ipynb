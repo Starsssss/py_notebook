{
 "cells": [
  {
   "cell_type": "code",
   "execution_count": 8,
   "id": "269683a2",
   "metadata": {},
   "outputs": [
    {
     "name": "stdout",
     "output_type": "stream",
     "text": [
      "<class 'list'>\n",
      "['https://www.zhipin.com/job_detail/ac052f5638d56f701nF_2Ni4EVBV.html', 'https://www.zhipin.com/job_detail/8d55e153043f906d1nB-3Nq5ElFY.html', 'https://www.zhipin.com/job_detail/528aa703b5930bf33nJ42Nu6GFY~.html', 'https://www.zhipin.com/job_detail/47c084f43eb9b8d51nZ_0ti6E1pR.html', 'https://www.zhipin.com/job_detail/c7aa42dcf79716cc1nB92Nq7FlZR.html', 'https://www.zhipin.com/job_detail/d36841671c94a6a81nZ_3tq4EldS.html', 'https://www.zhipin.com/job_detail/b6e671252790978c1nRy3ti1ElpU.html', 'https://www.zhipin.com/job_detail/9fb8190ed8f5e5d31nV42Nq4E1JT.html', 'https://www.zhipin.com/job_detail/0f7a7fa03379e3351nV93ti6GFZQ.html', 'https://www.zhipin.com/job_detail/8af8299464dcf94433B639y7FVU~.html', 'https://www.zhipin.com/job_detail/081e6efc1478cf0b0XR42Nu6EFs~.html', 'https://www.zhipin.com/job_detail/14ca246f62814f751nB_3dm0FVRV.html', 'https://www.zhipin.com/job_detail/2dba2efa1f90ac891nZ53NS6FFBR.html', 'https://www.zhipin.com/job_detail/7b436fe423272c461nZ_3NW6GVZS.html', 'https://www.zhipin.com/job_detail/50665cd19316f3721nZz0tS6FFJY.html', 'https://www.zhipin.com/job_detail/89a466f1659e507a1nVy39W_F1FW.html', 'https://www.zhipin.com/job_detail/6266402e99ed84213nJz2tS-FFI~.html', 'https://www.zhipin.com/job_detail/416bcf084a8fcb9e1nV52d61GVBQ.html', 'https://www.zhipin.com/job_detail/2a7cfb85d0b1464d0Hxz29W5FVs~.html', 'https://www.zhipin.com/job_detail/77a623899211c18c1nV63tm0FFdU.html', 'https://www.zhipin.com/job_detail/bf0edd286fb2f0101nR82Nm-GVVQ.html', 'https://www.zhipin.com/job_detail/4ae5a8a10a114e6f1nB92Nu0EVFQ.html', 'https://www.zhipin.com/job_detail/f22bcbb72eb645da1nB90t-6EVtX.html', 'https://www.zhipin.com/job_detail/0b40a6e19953fe9e1nZ73t61GVJS.html', 'https://www.zhipin.com/job_detail/ecd71ea5fc7b37301nV-3NW_FFdW.html', 'https://www.zhipin.com/job_detail/57deca94e79b182f1nZ73N69EVBV.html', 'https://www.zhipin.com/job_detail/db7cca679165a4791nB809W0F1FZ.html', 'https://www.zhipin.com/job_detail/41bba325756084931nd73Nq_EFtT.html', 'https://www.zhipin.com/job_detail/8963949f6176879a3nV53Ni4GFI~.html', 'https://www.zhipin.com/job_detail/c4aeea0b91e3e70b1nB-3d26ElRU.html', 'https://www.zhipin.com/job_detail/ae83e906eed53c331nZ40tS7GVNQ.html', 'https://www.zhipin.com/job_detail/4bb1cd59a30f384d1nB93di9GFNY.html', 'https://www.zhipin.com/job_detail/e6abdee29969444b1nB939-5GFtZ.html', 'https://www.zhipin.com/job_detail/eec314673898dc840nNy2dy5F1Y~.html', 'https://www.zhipin.com/job_detail/858f0df58693bf5a1nZ73t66GVFR.html', 'https://www.zhipin.com/job_detail/6beace14b60244361nd72tm4GFRU.html', 'https://www.zhipin.com/job_detail/ae48ff60cff694c33nJ40t-_E1o~.html', 'https://www.zhipin.com/job_detail/69089e570f7224ef1nV82Ny_EVNV.html', 'https://www.zhipin.com/job_detail/5fc7ad4982ca6f801nB90t-6ElVV.html', 'https://www.zhipin.com/job_detail/fc2ad49fedca11ca1nZ72t29GFtZ.html', 'https://www.zhipin.com/job_detail/9107cbf5e1a531cc0nRz09q4FlE~.html', 'https://www.zhipin.com/job_detail/46a93b7e7d4104301nZ939-4EVpV.html', 'https://www.zhipin.com/job_detail/32a0e4bd27c2e0771nR63d60EFFR.html', 'https://www.zhipin.com/job_detail/1303dc48b40e368a1nZ80969GFVR.html', 'https://www.zhipin.com/job_detail/3f00691db498db681nd60t-_FltX.html', 'https://www.zhipin.com/job_detail/7f449004153607ad1nd63968GVFV.html', 'https://www.zhipin.com/job_detail/966f00d2ab4bf4b21nRz2tq0FltQ.html', 'https://www.zhipin.com/job_detail/95c4b669704eec4a1nBy3NW8GFNU.html', 'https://www.zhipin.com/job_detail/508d631b493ba47c1nd709m9EVo~.html', 'https://www.zhipin.com/job_detail/4da50a16f2016af303d53Ny0F1Y~.html', 'https://www.zhipin.com/job_detail/c4d22bf6aadd65fe031_3dS5Eg~~.html', 'https://www.zhipin.com/job_detail/326dccdc838b19fd0X17392_EVU~.html', 'https://www.zhipin.com/job_detail/d845fb35e53032971nV90tq0F1VR.html', 'https://www.zhipin.com/job_detail/79c04160b736478c1nB92dm0FVFT.html', 'https://www.zhipin.com/job_detail/a27f33aa24f171e41nR709i-EVRS.html', 'https://www.zhipin.com/job_detail/099806fef236bcd41nRz3N20GFFS.html', 'https://www.zhipin.com/job_detail/db6add10c96bca481nd73tq6E1pS.html', 'https://www.zhipin.com/job_detail/fe08724b21bb65621nR82Ni0Els~.html', 'https://www.zhipin.com/job_detail/5b5f3a393bd962b11nB839y6GVVU.html', 'https://www.zhipin.com/job_detail/0d3e91b6288a4c5b1nd72dq-FlNY.html', 'https://www.zhipin.com/job_detail/5b5f3a393bd962b11nB839y6GVVU.html', 'https://www.zhipin.com/job_detail/0d3e91b6288a4c5b1nd72dq-FlNY.html', 'https://www.zhipin.com/job_detail/25ba369e52408ea21nZ-2tm_FFVT.html', 'https://www.zhipin.com/job_detail/e5dcbecab84b96a21nB92t-0E1tU.html', 'https://www.zhipin.com/job_detail/41f6251482febe1733R93dW6EFM~.html', 'https://www.zhipin.com/job_detail/f51b03f86bc1a71e1nV739S1GVNX.html', 'https://www.zhipin.com/job_detail/c3ba2af65adfbd170HZ_2ti9FlM~.html', 'https://www.zhipin.com/job_detail/7c00f79be063f1981nB93t66EFdY.html', 'https://www.zhipin.com/job_detail/481f7a6fedf3e75f1HB_3dq9GVs~.html', 'https://www.zhipin.com/job_detail/7f3fc9107d3a15b433d83d28EVo~.html', 'https://www.zhipin.com/job_detail/742c7748a93411801X192Ny_ElQ~.html', 'https://www.zhipin.com/job_detail/c737745a4a1881171nB80t21EFpQ.html', 'https://www.zhipin.com/job_detail/03849d6b0ef65a991nB53Nu0FFdZ.html', 'https://www.zhipin.com/job_detail/b1ec0b5836cd4da51nd609m6F1RX.html', 'https://www.zhipin.com/job_detail/324fd115ad5d7f2b1nBy0tW6F1BV.html', 'https://www.zhipin.com/job_detail/236dcae210a94b3d1X1-0tu-GFY~.html', 'https://www.zhipin.com/job_detail/2c84062de33c708f3nF-2ti7GVU~.html', 'https://www.zhipin.com/job_detail/d1454b4f438e99581XN92t-8EVA~.html', 'https://www.zhipin.com/job_detail/a48378ec995f6dc91nZz0ti4FVVR.html', 'https://www.zhipin.com/job_detail/fe521d124c401fa21nR80tq7GVBS.html', 'https://www.zhipin.com/job_detail/5db564f3e7e07fe833F50tm1Elc~.html', 'https://www.zhipin.com/job_detail/1bc2cc9453a287091nB80tS1EFRY.html', 'https://www.zhipin.com/job_detail/9de742bc468aea8c3n183du4FlA~.html', 'https://www.zhipin.com/job_detail/786cc57c356d200e33V90t67FlE~.html', 'https://www.zhipin.com/job_detail/130e8c740b6bf0f41nd63Nm4FlBQ.html', 'https://www.zhipin.com/job_detail/67c2d7376a94ad021nZ-0t-4FVpW.html', 'https://www.zhipin.com/job_detail/d094069e9a0f7c621nRy29y-F1dX.html', 'https://www.zhipin.com/job_detail/df3d6311695a1d011nZ62d28GVZU.html', 'https://www.zhipin.com/job_detail/5a6fcca2fb77bb731nB53Nm6EVZR.html', 'https://www.zhipin.com/job_detail/cd1e13253db76dc41nR-3N61E1pU.html', 'https://www.zhipin.com/job_detail/dfa747538364eae61nR72968E1JT.html', 'https://www.zhipin.com/job_detail/9e79b9845db64b0b1nZ_29-_EVNU.html', 'https://www.zhipin.com/job_detail/77844855fe03669d1nZ_0tS0E1VX.html', 'https://www.zhipin.com/job_detail/d0c461efa275b9d31nV53tS_GFBZ.html', 'https://www.zhipin.com/job_detail/c5615be38d05202d1nB92NW_GVZT.html', 'https://www.zhipin.com/job_detail/e0245f92e3f9e7af1nB-3dm8E1NW.html', 'https://www.zhipin.com/job_detail/de38ded96ea18af81nV93ti8FVpR.html', 'https://www.zhipin.com/job_detail/84e93abf8b4f45481nZ939i6FlpQ.html', 'https://www.zhipin.com/job_detail/9c7a2f49acf32dd63nFy3du_F1Y~.html', 'https://www.zhipin.com/job_detail/796bcbd0a4d5277e1nZy2t27EFZY.html', 'https://www.zhipin.com/job_detail/e3a0da13715f9c470n1-2ti8FVE~.html', 'https://www.zhipin.com/job_detail/d137611760fa4d563nBz2t--Fls~.html', 'https://www.zhipin.com/job_detail/8b264d2a0e3b446c33152dS0FVo~.html', 'https://www.zhipin.com/job_detail/6dd7041ca9c90d051nVy2tm6EltX.html', 'https://www.zhipin.com/job_detail/bb69eefe9ec9bca41nZ_2t26E1tT.html', 'https://www.zhipin.com/job_detail/d9bba336aa5d559e1nZ_2d67FlRR.html', 'https://www.zhipin.com/job_detail/7656026efa9afc321nV42tW8E1VR.html', 'https://www.zhipin.com/job_detail/44b10955df2a8d4e1nd439i9FltW.html', 'https://www.zhipin.com/job_detail/e02ca3a32d144a241nZy2dS5EFZZ.html', 'https://www.zhipin.com/job_detail/9d84a1dbd477dbe31Hx72dm-GFU~.html', 'https://www.zhipin.com/job_detail/1bf22ed0a35ddaab1nZ73dm5EFdS.html', 'https://www.zhipin.com/job_detail/0313588e21e12a5f33Z62969FlA~.html', 'https://www.zhipin.com/job_detail/8fcb5f0d0747f5bb03R73du5FlU~.html', 'https://www.zhipin.com/job_detail/3a7fe52c361404071nV52tu-FVtW.html', 'https://www.zhipin.com/job_detail/60eecd43133d6e8c1Xxz3ti8EVo~.html', 'https://www.zhipin.com/job_detail/20b586ff1ccf2bd71nV929i5EFNU.html', 'https://www.zhipin.com/job_detail/80df0ccda2ebdec31nB929i6FVVZ.html', 'https://www.zhipin.com/job_detail/0504a73af81a93ff1nVz09m-GVFY.html', 'https://www.zhipin.com/job_detail/1cd94f2d2faa7b2d1nV63dy-FlpS.html', 'https://www.zhipin.com/job_detail/90fa58342491a7491nZz0tS6GVdT.html', 'https://www.zhipin.com/job_detail/90fa58342491a7491nZz0tS6GVdT.html', 'https://www.zhipin.com/job_detail/9e98bdef3a1213c71nd62dq6EVpX.html', 'https://www.zhipin.com/job_detail/4fcf031ab285afd81nB92tm1FFpZ.html', 'https://www.zhipin.com/job_detail/bec16341905ee3581nF639y_GFJQ.html', 'https://www.zhipin.com/job_detail/e3bd516a2d0876471nd73dm8FlpY.html', 'https://www.zhipin.com/job_detail/daba2a80bf5e69861nZ63t-5F1pV.html', 'https://www.zhipin.com/job_detail/b13cb102870f5e4333d53t28FVY~.html', 'https://www.zhipin.com/job_detail/2654ea6f40b80bdb0Hd63tW0EVU~.html', 'https://www.zhipin.com/job_detail/7c4ce8a90c20aa233nd73dm8FFE~.html', 'https://www.zhipin.com/job_detail/7be3877559d4ed291nV-3dW1GFtS.html', 'https://www.zhipin.com/job_detail/d19d241e3a4141230nx-2tm0EFA~.html', 'https://www.zhipin.com/job_detail/b9509e8fed5753e61XN62N26GVY~.html', 'https://www.zhipin.com/job_detail/f119addcd35fe6e41nB93NW7FVpX.html', 'https://www.zhipin.com/job_detail/936d27c04f29113d33Fz0t--EVo~.html', 'https://www.zhipin.com/job_detail/9ba17d929f608c4a1nB82tm1ElZQ.html', 'https://www.zhipin.com/job_detail/41a0696788c83b8903Ny2dm6ElQ~.html', 'https://www.zhipin.com/job_detail/f734b66972b5cfc51nR_2964GFRS.html', 'https://www.zhipin.com/job_detail/69bceea7863c93470HV53dy7EFM~.html', 'https://www.zhipin.com/job_detail/2f658cc188c88ebc1nRy09W4GVFV.html', 'https://www.zhipin.com/job_detail/40174f4ad290ec8f1nZ83d67ElpY.html', 'https://www.zhipin.com/job_detail/6730afa000cf93671nZ-2di-ElFR.html', 'https://www.zhipin.com/job_detail/d65a0f3be38fbd101nRy2t60FlZR.html', 'https://www.zhipin.com/job_detail/417fdeb317932df43n160tW7GFI~.html', 'https://www.zhipin.com/job_detail/3959869d1c68ec5d1nd63t-6FlNT.html', 'https://www.zhipin.com/job_detail/b95ab7a42961d8693nx72Ny_EVo~.html', 'https://www.zhipin.com/job_detail/4e31343a969a14331nZz0tW8EVZV.html', 'https://www.zhipin.com/job_detail/0b14dda073dc37b31nZ_3Nq4ElVZ.html', 'https://www.zhipin.com/job_detail/66fcc78530c0e5611nR_0tq_FVVS.html', 'https://www.zhipin.com/job_detail/a23cf47f262f34741nV92dq1F1pV.html', 'https://www.zhipin.com/job_detail/7f654eee4fa647ab1nB82N61FVFR.html', 'https://www.zhipin.com/job_detail/066c66580e338ef61nZ939W9F1RT.html', 'https://www.zhipin.com/job_detail/ed0f52a27d911b4f1nZz3tW7FFNX.html', 'https://www.zhipin.com/job_detail/845e4b5faadef43a1nZ-0ti-FVFT.html', 'https://www.zhipin.com/job_detail/11fc1fe3f3929e781nB-39q5FlBQ.html', 'https://www.zhipin.com/job_detail/981d3e2b7eb4d7870Xx-09W-FVU~.html', 'https://www.zhipin.com/job_detail/82c664d9b41c246c1nV42t6_FlZZ.html', 'https://www.zhipin.com/job_detail/c62ffdc87714abb11nZ-0927GFBX.html', 'https://www.zhipin.com/job_detail/48e00c3f92ee11d01nF62NW8GVZX.html', 'https://www.zhipin.com/job_detail/f5f71f928cd7a0f31nZ73d-9GVpR.html', 'https://www.zhipin.com/job_detail/2628fe3ded0d112f1nZ90t60E1pS.html', 'https://www.zhipin.com/job_detail/73fa8cec84f083b31XN93d25ElY~.html', 'https://www.zhipin.com/job_detail/710ac88bbc4606ca1nR939i0EVBU.html', 'https://www.zhipin.com/job_detail/755254e84b9567de1nB_0tW4GFdZ.html', 'https://www.zhipin.com/job_detail/cfaaf4c7313b31e61nRy09W4FVVT.html', 'https://www.zhipin.com/job_detail/27472b154ca893111nd43du1GVBR.html', 'https://www.zhipin.com/job_detail/0d8cd822e8ab55251nZ_3d-4F1FW.html', 'https://www.zhipin.com/job_detail/7f4c8217a29df5891nZ63t-_FFtY.html', 'https://www.zhipin.com/job_detail/4e38cc28f667ebb31nZ-0ti0FltZ.html', 'https://www.zhipin.com/job_detail/80b83cdb2899f2a20Xx-39m9ElQ~.html', 'https://www.zhipin.com/job_detail/d24d4169d443fa331nV60ti7GFZY.html', 'https://www.zhipin.com/job_detail/9da14a020c75fce41nZ-0tS0FVRU.html', 'https://www.zhipin.com/job_detail/e4395c16eadfed4c1XN729m6EVE~.html', 'https://www.zhipin.com/job_detail/a36f00ae4b77657f1nF939u_FFJY.html', 'https://www.zhipin.com/job_detail/1767c4ef83ebc4003nV70tS9FlQ~.html', 'https://www.zhipin.com/job_detail/f758dc15cd2597d23nF_3tS0F1M~.html', 'https://www.zhipin.com/job_detail/6a730c957e19bd621nB92dy4EFRV.html', 'https://www.zhipin.com/job_detail/9a2bfbc9859269ab1nZy09y8F1pQ.html', 'https://www.zhipin.com/job_detail/fb63d9a776886323331y3t67FlY~.html', 'https://www.zhipin.com/job_detail/a968bfd432b1a86b1nV82d28E1tR.html', 'https://www.zhipin.com/job_detail/cb8e5601c7070a501XB50tu9E1M~.html', 'https://www.zhipin.com/job_detail/ac1c894df56c020a1nZ609S_E1dU.html', 'https://www.zhipin.com/job_detail/61b3244706b0edb70Xx-39q_FFc~.html', 'https://www.zhipin.com/job_detail/7c05ada14a1f21381nZz0t-1GFRR.html', 'https://www.zhipin.com/job_detail/51d62bf1d87595120HV629S8GFc~.html', 'https://www.zhipin.com/job_detail/2c8de11f83abe6171nB82Ni-EFJS.html', 'https://www.zhipin.com/job_detail/cba58c601a05a0851nZ82ty-GFdW.html', 'https://www.zhipin.com/job_detail/6e8279072005ced01nZ92dS7E1dV.html', 'https://www.zhipin.com/job_detail/94c1830c7793b8501nZ809u0E1ZU.html', 'https://www.zhipin.com/job_detail/9b0056abcccc0f1a1nB-09y8GVU~.html', 'https://www.zhipin.com/job_detail/8ec4856a86728f151nB90t-7FVRV.html', 'https://www.zhipin.com/job_detail/a3545ea9b88ebb3e1nZy2Ny5EFJX.html', 'https://www.zhipin.com/job_detail/94b991fd9a2dd94b33B92di0FVE~.html', 'https://www.zhipin.com/job_detail/0008d79896a1fa511nN43ti6FlE~.html', 'https://www.zhipin.com/job_detail/669b8d9213a70eaf1nV82967FldT.html', 'https://www.zhipin.com/job_detail/1314ce18c891a58b33d_39-7FVc~.html', 'https://www.zhipin.com/job_detail/1f0b6869dc5b93e803Fz2tW-EFY~.html', 'https://www.zhipin.com/job_detail/84d06c3e89c7c8081nZy3tu7FFRT.html', 'https://www.zhipin.com/job_detail/2cf0d221e5252c8e1nd62di-EVdS.html', 'https://www.zhipin.com/job_detail/dd458c84b0de41930HV50tW1EFE~.html', 'https://www.zhipin.com/job_detail/ce9bdf36be6c81e41nR83tu8EFtR.html', 'https://www.zhipin.com/job_detail/7c70e617aba3e5b91nZ62d2-GVtV.html', 'https://www.zhipin.com/job_detail/0d74922ab5c1029b0HJy2ti0GVc~.html', 'https://www.zhipin.com/job_detail/30c1934a88fbb93e0n1-3d28Elo~.html', 'https://www.zhipin.com/job_detail/56ff7683f37a24701nZ62d29F1tU.html', 'https://www.zhipin.com/job_detail/7fc8f26ef2715f9f33Z43ti8F1o~.html', 'https://www.zhipin.com/job_detail/201c3cba778d67041nV60t-6FFRV.html', 'https://www.zhipin.com/job_detail/be2db671679f22251HN-2Nm-Elo~.html', 'https://www.zhipin.com/job_detail/437bc95e362759cd33d53N-4Els~.html', 'https://www.zhipin.com/job_detail/4b22b617ca5ddb261HZz0t66FFE~.html', 'https://www.zhipin.com/job_detail/3315aec2593393621nR-3ty5FVNU.html', 'https://www.zhipin.com/job_detail/3315aec2593393621nR-3ty5FVNU.html', 'https://www.zhipin.com/job_detail/1e3ed73ce9967c0d1nZ529S6EVFZ.html', 'https://www.zhipin.com/job_detail/60b6fc2268d5fe000XN_2t64Flc~.html', 'https://www.zhipin.com/job_detail/97f9f69ec3c891a60Xx53tW4EVY~.html', 'https://www.zhipin.com/job_detail/13112f87355f71eb0nN90ty4FlM~.html', 'https://www.zhipin.com/job_detail/bfe9bd839e657a380Xx409W_FFY~.html', 'https://www.zhipin.com/job_detail/5388aacab2fbf89533x439W4F1c~.html', 'https://www.zhipin.com/job_detail/3ccccd381670517833V72d-6F1o~.html', 'https://www.zhipin.com/job_detail/5fbc1d5b90e0ef950XN_2dm5GVc~.html', 'https://www.zhipin.com/job_detail/cd144dfff9a3d4a31n180t28GVY~.html', 'https://www.zhipin.com/job_detail/ec4d43663ca995f60XRy2Nu0GVA~.html', 'https://www.zhipin.com/job_detail/1c481de1498bde691nR-2NS5FlBT.html', 'https://www.zhipin.com/job_detail/80e6eff0b38a5bb50XN_2NW6FFM~.html', 'https://www.zhipin.com/job_detail/cb39fb057e49490333V_3tq9GVs~.html', 'https://www.zhipin.com/job_detail/77a9aa178d99e26e1nx62du9ElM~.html', 'https://www.zhipin.com/job_detail/28cb6216cf1c60e803B639-1FFU~.html', 'https://www.zhipin.com/job_detail/50639e1fee3780a81HB-0964EVs~.html', 'https://www.zhipin.com/job_detail/8580bde7d9d57c4c0XN_2tu-GFI~.html', 'https://www.zhipin.com/job_detail/ed1100718689baff1nd62dm8F1VX.html', 'https://www.zhipin.com/job_detail/544b52d363addf300Xx-3Ny1EFE~.html', 'https://www.zhipin.com/job_detail/9ef0490669c464bb1nR-3t65FlBV.html', 'https://www.zhipin.com/job_detail/00ca502825d557511nx40ty0F1s~.html', 'https://www.zhipin.com/job_detail/c0747f01fb27e8901nZy2N-9EVRV.html']\n"
     ]
    }
   ],
   "source": [
    "import csv\n",
    "with open(r'C:\\Users\\PC\\notenook\\job_Spider\\BossZhipin\\resultA.csv') as csvfile:\n",
    "    reader = csv.reader(csvfile,)\n",
    "    column1 = [row[1]for row in reader]\n",
    "    print(type(column1))\n",
    "#     print(column1)"
   ]
  },
  {
   "cell_type": "code",
   "execution_count": 10,
   "id": "04e18475",
   "metadata": {},
   "outputs": [],
   "source": [
    "import pyquery as pq\n",
    "from selenium import webdriver\n",
    "import pandas as pd\n",
    "import time\n",
    "import os\n",
    "from selenium.webdriver.support import expected_conditions as EC\n",
    "from selenium.webdriver.common.by import By\n",
    "from selenium.webdriver.support.ui import WebDriverWait"
   ]
  },
  {
   "cell_type": "code",
   "execution_count": 11,
   "id": "39dca752",
   "metadata": {},
   "outputs": [],
   "source": [
    "driver = webdriver.Firefox()\n",
    "driver.implicitly_wait(5)\n",
    "driver.get(\"https://www.zhipin.com/\")"
   ]
  },
  {
   "cell_type": "code",
   "execution_count": 57,
   "id": "d2ff4289",
   "metadata": {},
   "outputs": [],
   "source": [
    "#wait = WebDriverWait(driver,4)\n",
    "#button = wait.until(EC.element_to_be_clickable((By.XPATH,'.//*[@id=\"cboxClose\"]')))\n",
    "#button.click()\n",
    "#print(\"点击了\")\n",
    "\n",
    "def getPosition(items):\n",
    "    datalist=[]\n",
    "    for item in items.items():\n",
    "        temp = dict()\n",
    "        temp['职位ID']= item.attr('data-positionid')\n",
    "        temp['职位名']= item.attr('data-positionname')\n",
    "        temp['薪资范围']= item.attr('data-salary')\n",
    "        temp['公司ID']= item.attr('data-companyid')\n",
    "        temp['公司名']= item.attr('data-company')\n",
    "        temp['职位链接']=pq.PyQuery(item).find(\".position_link\").attr(\"href\")\n",
    "        temp['发布时间']=pq.PyQuery(item).find(\".format-time\").text()\n",
    "        temp['猎头名称']=pq.PyQuery(item).find(\".hr_name\").text()\n",
    "        temp['猎头ID']=pq.PyQuery(item).find(\".target_hr\").text()\n",
    "        temp['工作经验']=pq.PyQuery(item).find(\".p_bot>.li_b_l\").remove(\".money\").text()\n",
    "        temp['公司主页']=pq.PyQuery(item).find(\".company_name>a\").attr('href')\n",
    "        temp['公司描述']=pq.PyQuery(item).find(\".industry\").text()\n",
    "        temp['岗位亮点']=pq.PyQuery(item).find(\".li_b_r\").text()\n",
    "\n",
    "        datalist.append(temp)\n",
    "    return datalist"
   ]
  },
  {
   "cell_type": "code",
   "execution_count": 61,
   "id": "590a5a79",
   "metadata": {},
   "outputs": [
    {
     "name": "stdout",
     "output_type": "stream",
     "text": [
      "开始执行采集\n",
      "列表采集结束\n"
     ]
    }
   ],
   "source": [
    "print(\"开始执行采集\")\n",
    "data = []\n",
    "driver.get(\"https://www.lagou.com/jobs/list_Php/p-city_215?&cl=false&fromSearch=true&labelWords=&suginput=\")\n",
    "while True:\n",
    "    but_class = driver.find_element_by_css_selector(\".pager_next\").get_attribute('class')\n",
    "\n",
    "    if but_class == 'pager_next ':\n",
    "        driver.find_element_by_xpath(\"//span[@action='next']\").click()\n",
    "        items = pq.PyQuery(driver.page_source).find(\".con_list_item\")\n",
    "        data += getPosition(items)\n",
    "        time.sleep(2)\n",
    "    else:\n",
    "        print('列表采集结束')\n",
    "        break"
   ]
  },
  {
   "cell_type": "code",
   "execution_count": 62,
   "id": "c8102668",
   "metadata": {},
   "outputs": [],
   "source": [
    "csv = pd.DataFrame(data)\n",
    "csv.to_csv(\"lagou.csv\")"
   ]
  },
  {
   "cell_type": "code",
   "execution_count": 71,
   "id": "70aaafab",
   "metadata": {
    "scrolled": true
   },
   "outputs": [
    {
     "name": "stdout",
     "output_type": "stream",
     "text": [
      "C:\\Users\\PC\\Untitled Folder\n"
     ]
    }
   ],
   "source": [
    "import os\n",
    "print(os.path.abspath('.'))"
   ]
  },
  {
   "cell_type": "code",
   "execution_count": null,
   "id": "127cec86",
   "metadata": {},
   "outputs": [
    {
     "name": "stdout",
     "output_type": "stream",
     "text": [
      "<class 'list'>\n"
     ]
    }
   ],
   "source": [
    "import csv\n",
    "with open(r'C:\\Users\\PC\\notenook\\job_Spider\\BossZhipin\\resultA.csv') as csvfile:\n",
    "    reader = csv.reader(csvfile,)\n",
    "    column1 = [row[1]for row in reader]\n",
    "    print(type(column1))\n",
    "urllist=column1\n",
    "import random\n",
    "for row in urllist:\n",
    "    time.sleep(5+random.randint(0,4))\n",
    "    driver.get(row)\n",
    "    \n",
    "    text =pq.PyQuery(driver.page_source).find(\".job-sec>.text\").text()\n",
    "    if \"\\u2200b\" in text:\n",
    "        print(\"我错了\")\n",
    "        print(text)\n",
    "    else :\n",
    "        with open(\"./data/boss_job_detail.txt\",\"a+\",encoding='utf-8') as f:\n",
    "            f.write(\"\\n----------------------------------------------------------------------------------------\\n\")\n",
    "            f.write(text)\n",
    "            f.write(\"\\n----------------------------------------------------------------------------------------\\n\")\n",
    "print(\"职位采集完成\")"
   ]
  },
  {
   "cell_type": "code",
   "execution_count": 84,
   "id": "b8f7fa91",
   "metadata": {},
   "outputs": [
    {
     "name": "stdout",
     "output_type": "stream",
     "text": [
      "7\n",
      "2\n"
     ]
    }
   ],
   "source": [
    "import random\n",
    " \n",
    "print(random.randint(0,9))\n",
    "\n",
    " \n",
    "print(random.randint(0,9))"
   ]
  },
  {
   "cell_type": "code",
   "execution_count": null,
   "id": "7b8e317e",
   "metadata": {},
   "outputs": [],
   "source": []
  },
  {
   "cell_type": "code",
   "execution_count": null,
   "id": "3ef42409",
   "metadata": {},
   "outputs": [],
   "source": []
  }
 ],
 "metadata": {
  "kernelspec": {
   "display_name": "Python 3",
   "language": "python",
   "name": "python3"
  },
  "language_info": {
   "codemirror_mode": {
    "name": "ipython",
    "version": 3
   },
   "file_extension": ".py",
   "mimetype": "text/x-python",
   "name": "python",
   "nbconvert_exporter": "python",
   "pygments_lexer": "ipython3",
   "version": "3.8.8"
  }
 },
 "nbformat": 4,
 "nbformat_minor": 5
}
